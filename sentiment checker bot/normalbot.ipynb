{
  "nbformat": 4,
  "nbformat_minor": 0,
  "metadata": {
    "colab": {
      "provenance": []
    },
    "kernelspec": {
      "name": "python3",
      "display_name": "Python 3"
    },
    "language_info": {
      "name": "python"
    }
  },
  "cells": [
    {
      "cell_type": "code",
      "execution_count": 1,
      "metadata": {
        "colab": {
          "base_uri": "https://localhost:8080/"
        },
        "id": "Tm-2iX90fWiI",
        "outputId": "43e800a7-ca08-4e90-b36a-043ae6b116d2"
      },
      "outputs": [
        {
          "output_type": "stream",
          "name": "stdout",
          "text": [
            "Requirement already satisfied: nltk in /usr/local/lib/python3.10/dist-packages (3.8.1)\n",
            "Requirement already satisfied: click in /usr/local/lib/python3.10/dist-packages (from nltk) (8.1.7)\n",
            "Requirement already satisfied: joblib in /usr/local/lib/python3.10/dist-packages (from nltk) (1.3.2)\n",
            "Requirement already satisfied: regex>=2021.8.3 in /usr/local/lib/python3.10/dist-packages (from nltk) (2023.6.3)\n",
            "Requirement already satisfied: tqdm in /usr/local/lib/python3.10/dist-packages (from nltk) (4.66.1)\n"
          ]
        }
      ],
      "source": [
        "pip install nltk"
      ]
    },
    {
      "cell_type": "code",
      "source": [
        "from nltk.tokenize import word_tokenize\n",
        "from nltk.corpus import stopwords\n",
        "from nltk.stem import PorterStemmer\n",
        "from nltk.sentiment.vader import SentimentIntensityAnalyzer\n",
        "# from vaderSentiment.vaderSentiment import SentimentIntensityAnalyzer\n",
        "import string\n",
        "from string import *\n",
        "import nltk\n",
        "\n",
        "nltk.download('punkt')\n",
        "nltk.download('vader_lexicon')\n",
        "nltk.download('stopwords')\n",
        "analyzer = SentimentIntensityAnalyzer()\n",
        "stop_words = set(stopwords.words('english'))\n",
        "ps = PorterStemmer()\n",
        "\n",
        "def preprocessing_text(text: str):\n",
        "    lower_case = text.casefold()\n",
        "    cleaned_text = lower_case.translate(str.maketrans('', '', string.punctuation))\n",
        "    tokenized_text = word_tokenize(cleaned_text, \"english\")\n",
        "    words = [ps.stem(word) for word in tokenized_text if word.isalpha() and word.lower() not in stop_words]\n",
        "    return ' '.join(words)\n",
        "\n",
        "def sentiment_analysing(text:str):\n",
        "    preprocessed_text = preprocessing_text(text)\n",
        "    sentiment_score = analyzer.polarity_scores(preprocessed_text)['compound']\n",
        "    sentiment_percentage = round((sentiment_score + 1) * 50, 2)\n",
        "    response = f\"The sentiment of the text is {sentiment_percentage}% positive.\"\n",
        "    return print(response)\n",
        "\n",
        "def main():\n",
        "    text = input(\"Text: \")\n",
        "    preprocessed_text = preprocessing_text(text)\n",
        "    sentiment_analysing(preprocessed_text)\n",
        "\n",
        "    return print(\"Sentiments verified successfully!\")\n",
        "\n",
        "if __name__ == \"__main__\":\n",
        "    main()"
      ],
      "metadata": {
        "colab": {
          "base_uri": "https://localhost:8080/"
        },
        "id": "qYSXG7AQfd9v",
        "outputId": "a1080d45-38d1-49ea-dcaa-1056cfa6e735"
      },
      "execution_count": 14,
      "outputs": [
        {
          "output_type": "stream",
          "name": "stderr",
          "text": [
            "[nltk_data] Downloading package punkt to /root/nltk_data...\n",
            "[nltk_data]   Package punkt is already up-to-date!\n",
            "[nltk_data] Downloading package vader_lexicon to /root/nltk_data...\n",
            "[nltk_data]   Package vader_lexicon is already up-to-date!\n",
            "[nltk_data] Downloading package stopwords to /root/nltk_data...\n",
            "[nltk_data]   Package stopwords is already up-to-date!\n"
          ]
        },
        {
          "output_type": "stream",
          "name": "stdout",
          "text": [
            "Text: you are so loved\n",
            "The sentiment of the text is 81.84% positive.\n",
            "Sentiments verified successfully!\n"
          ]
        }
      ]
    }
  ]
}